{
  "nbformat": 4,
  "nbformat_minor": 0,
  "metadata": {
    "colab": {
      "provenance": [],
      "authorship_tag": "ABX9TyPTRBZYEVt+UjwAaFAywS71",
      "include_colab_link": true
    },
    "kernelspec": {
      "name": "python3",
      "display_name": "Python 3"
    },
    "language_info": {
      "name": "python"
    },
    "widgets": {
      "application/vnd.jupyter.widget-state+json": {
        "a12dd08bf6aa45c1840201c53ed28b0b": {
          "model_module": "@jupyter-widgets/controls",
          "model_name": "DropdownModel",
          "model_module_version": "1.5.0",
          "state": {
            "_dom_classes": [],
            "_model_module": "@jupyter-widgets/controls",
            "_model_module_version": "1.5.0",
            "_model_name": "DropdownModel",
            "_options_labels": [
              "ID_10.0",
              "ID_12.0",
              "ID_13.0",
              "ID_14.0",
              "ID_15.0",
              "ID_17.0",
              "ID_18.0",
              "ID_19.0",
              "ID_21.0",
              "ID_22.0",
              "ID_23.0",
              "ID_24.0",
              "ID_25.0",
              "ID_28.0",
              "ID_30.0",
              "ID_31.0",
              "ID_33.0",
              "ID_34.0",
              "ID_35.0",
              "ID_4.0",
              "ID_5.0",
              "ID_6.0",
              "ID_7.0"
            ],
            "_view_count": null,
            "_view_module": "@jupyter-widgets/controls",
            "_view_module_version": "1.5.0",
            "_view_name": "DropdownView",
            "description": "Select ID:",
            "description_tooltip": null,
            "disabled": false,
            "index": 0,
            "layout": "IPY_MODEL_2633febe95a945f58dda14b45426758d",
            "style": "IPY_MODEL_19167018aa8c4db98ec263b932649fed"
          }
        },
        "2633febe95a945f58dda14b45426758d": {
          "model_module": "@jupyter-widgets/base",
          "model_name": "LayoutModel",
          "model_module_version": "1.2.0",
          "state": {
            "_model_module": "@jupyter-widgets/base",
            "_model_module_version": "1.2.0",
            "_model_name": "LayoutModel",
            "_view_count": null,
            "_view_module": "@jupyter-widgets/base",
            "_view_module_version": "1.2.0",
            "_view_name": "LayoutView",
            "align_content": null,
            "align_items": null,
            "align_self": null,
            "border": null,
            "bottom": null,
            "display": null,
            "flex": null,
            "flex_flow": null,
            "grid_area": null,
            "grid_auto_columns": null,
            "grid_auto_flow": null,
            "grid_auto_rows": null,
            "grid_column": null,
            "grid_gap": null,
            "grid_row": null,
            "grid_template_areas": null,
            "grid_template_columns": null,
            "grid_template_rows": null,
            "height": null,
            "justify_content": null,
            "justify_items": null,
            "left": null,
            "margin": null,
            "max_height": null,
            "max_width": null,
            "min_height": null,
            "min_width": null,
            "object_fit": null,
            "object_position": null,
            "order": null,
            "overflow": null,
            "overflow_x": null,
            "overflow_y": null,
            "padding": null,
            "right": null,
            "top": null,
            "visibility": null,
            "width": null
          }
        },
        "19167018aa8c4db98ec263b932649fed": {
          "model_module": "@jupyter-widgets/controls",
          "model_name": "DescriptionStyleModel",
          "model_module_version": "1.5.0",
          "state": {
            "_model_module": "@jupyter-widgets/controls",
            "_model_module_version": "1.5.0",
            "_model_name": "DescriptionStyleModel",
            "_view_count": null,
            "_view_module": "@jupyter-widgets/base",
            "_view_module_version": "1.2.0",
            "_view_name": "StyleView",
            "description_width": ""
          }
        },
        "6d00e196fc5b4f638a056038e3352960": {
          "model_module": "@jupyter-widgets/controls",
          "model_name": "DropdownModel",
          "model_module_version": "1.5.0",
          "state": {
            "_dom_classes": [],
            "_model_module": "@jupyter-widgets/controls",
            "_model_module_version": "1.5.0",
            "_model_name": "DropdownModel",
            "_options_labels": [
              "air_temp",
              "pressure",
              "lid_status",
              "co2_concentration",
              "humidity",
              "soil_temp_0",
              "moisture_0"
            ],
            "_view_count": null,
            "_view_module": "@jupyter-widgets/controls",
            "_view_module_version": "1.5.0",
            "_view_name": "DropdownView",
            "description": "Select Y-variable:",
            "description_tooltip": null,
            "disabled": false,
            "index": 1,
            "layout": "IPY_MODEL_c494cf7c6d4c4b0bb13ff845daa3ab2a",
            "style": "IPY_MODEL_07e0d552a2b74f36844c45c72a6678ba"
          }
        },
        "c494cf7c6d4c4b0bb13ff845daa3ab2a": {
          "model_module": "@jupyter-widgets/base",
          "model_name": "LayoutModel",
          "model_module_version": "1.2.0",
          "state": {
            "_model_module": "@jupyter-widgets/base",
            "_model_module_version": "1.2.0",
            "_model_name": "LayoutModel",
            "_view_count": null,
            "_view_module": "@jupyter-widgets/base",
            "_view_module_version": "1.2.0",
            "_view_name": "LayoutView",
            "align_content": null,
            "align_items": null,
            "align_self": null,
            "border": null,
            "bottom": null,
            "display": null,
            "flex": null,
            "flex_flow": null,
            "grid_area": null,
            "grid_auto_columns": null,
            "grid_auto_flow": null,
            "grid_auto_rows": null,
            "grid_column": null,
            "grid_gap": null,
            "grid_row": null,
            "grid_template_areas": null,
            "grid_template_columns": null,
            "grid_template_rows": null,
            "height": null,
            "justify_content": null,
            "justify_items": null,
            "left": null,
            "margin": null,
            "max_height": null,
            "max_width": null,
            "min_height": null,
            "min_width": null,
            "object_fit": null,
            "object_position": null,
            "order": null,
            "overflow": null,
            "overflow_x": null,
            "overflow_y": null,
            "padding": null,
            "right": null,
            "top": null,
            "visibility": null,
            "width": null
          }
        },
        "07e0d552a2b74f36844c45c72a6678ba": {
          "model_module": "@jupyter-widgets/controls",
          "model_name": "DescriptionStyleModel",
          "model_module_version": "1.5.0",
          "state": {
            "_model_module": "@jupyter-widgets/controls",
            "_model_module_version": "1.5.0",
            "_model_name": "DescriptionStyleModel",
            "_view_count": null,
            "_view_module": "@jupyter-widgets/base",
            "_view_module_version": "1.2.0",
            "_view_name": "StyleView",
            "description_width": ""
          }
        },
        "836520af47a042b59e982811a8f8d1b3": {
          "model_module": "@jupyter-widgets/output",
          "model_name": "OutputModel",
          "model_module_version": "1.0.0",
          "state": {
            "_dom_classes": [],
            "_model_module": "@jupyter-widgets/output",
            "_model_module_version": "1.0.0",
            "_model_name": "OutputModel",
            "_view_count": null,
            "_view_module": "@jupyter-widgets/output",
            "_view_module_version": "1.0.0",
            "_view_name": "OutputView",
            "layout": "IPY_MODEL_86f817c874a14c4f852b96f904ab1f8e",
            "msg_id": "",
            "outputs": [
              {
                "output_type": "display_data",
                "data": {
                  "text/plain": "<Figure size 1000x600 with 1 Axes>",
                  "image/png": "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\n"
                },
                "metadata": {}
              }
            ]
          }
        },
        "86f817c874a14c4f852b96f904ab1f8e": {
          "model_module": "@jupyter-widgets/base",
          "model_name": "LayoutModel",
          "model_module_version": "1.2.0",
          "state": {
            "_model_module": "@jupyter-widgets/base",
            "_model_module_version": "1.2.0",
            "_model_name": "LayoutModel",
            "_view_count": null,
            "_view_module": "@jupyter-widgets/base",
            "_view_module_version": "1.2.0",
            "_view_name": "LayoutView",
            "align_content": null,
            "align_items": null,
            "align_self": null,
            "border": null,
            "bottom": null,
            "display": null,
            "flex": null,
            "flex_flow": null,
            "grid_area": null,
            "grid_auto_columns": null,
            "grid_auto_flow": null,
            "grid_auto_rows": null,
            "grid_column": null,
            "grid_gap": null,
            "grid_row": null,
            "grid_template_areas": null,
            "grid_template_columns": null,
            "grid_template_rows": null,
            "height": null,
            "justify_content": null,
            "justify_items": null,
            "left": null,
            "margin": null,
            "max_height": null,
            "max_width": null,
            "min_height": null,
            "min_width": null,
            "object_fit": null,
            "object_position": null,
            "order": null,
            "overflow": null,
            "overflow_x": null,
            "overflow_y": null,
            "padding": null,
            "right": null,
            "top": null,
            "visibility": null,
            "width": null
          }
        }
      }
    }
  },
  "cells": [
    {
      "cell_type": "markdown",
      "metadata": {
        "id": "view-in-github",
        "colab_type": "text"
      },
      "source": [
        "<a href=\"https://colab.research.google.com/github/rramachandr9/soil-health-monitoring/blob/main/interactive_plots.ipynb\" target=\"_parent\"><img src=\"https://colab.research.google.com/assets/colab-badge.svg\" alt=\"Open In Colab\"/></a>"
      ]
    },
    {
      "cell_type": "code",
      "source": [
        "from google.colab import drive\n",
        "drive.mount('/content/drive')\n",
        "%cd /content/drive/MyDrive/ColabNotebooks/Soil project"
      ],
      "metadata": {
        "colab": {
          "base_uri": "https://localhost:8080/"
        },
        "id": "8Lx7RIWYqsV1",
        "outputId": "e94004cd-03e4-4304-b5f3-45236f6fd5bf"
      },
      "execution_count": 1,
      "outputs": [
        {
          "output_type": "stream",
          "name": "stdout",
          "text": [
            "Mounted at /content/drive\n",
            "/content/drive/MyDrive/ColabNotebooks/Soil project\n"
          ]
        }
      ]
    },
    {
      "cell_type": "code",
      "source": [
        "import pandas as pd\n",
        "import matplotlib.pyplot as plt\n",
        "import ipywidgets as widgets\n",
        "from IPython.display import display, clear_output"
      ],
      "metadata": {
        "id": "Cnk5iPcDqsdG"
      },
      "execution_count": 2,
      "outputs": []
    },
    {
      "cell_type": "code",
      "source": [
        "# Load all sheets from the Excel file into a dictionary of dataframes\n",
        "dfs = pd.read_excel('output_data.xlsx', sheet_name=None)\n",
        "\n",
        "available_ids = list(dfs.keys())\n",
        "\n",
        "def preprocess_data(df):\n",
        "    df['Date_Time'] = pd.to_datetime(df['Date_Time'])\n",
        "    return df\n",
        "\n",
        "for id, df in dfs.items():\n",
        "    dfs[id] = preprocess_data(df)\n",
        "\n",
        "# Define the available Y-variables\n",
        "available_y_variables = ['air_temp', 'pressure', 'lid_status', 'co2_concentration', 'humidity', 'soil_temp_0', 'moisture_0']\n",
        "\n",
        "# Create dropdown widgets\n",
        "id_dropdown = widgets.Dropdown(options=available_ids, description='Select ID:')\n",
        "y_variable_dropdown = widgets.Dropdown(options=available_y_variables, description='Select Y-variable:')\n",
        "\n",
        "# Create a container for the plot\n",
        "plot_output = widgets.Output()\n",
        "\n",
        "# Function to update the plot\n",
        "def update_plot(change):\n",
        "    selected_id = id_dropdown.value\n",
        "    selected_y_variable = y_variable_dropdown.value\n",
        "\n",
        "    if selected_id and selected_y_variable:\n",
        "        df = dfs[selected_id]\n",
        "\n",
        "        # Clear previous plot\n",
        "        with plot_output:\n",
        "            clear_output(wait=True)\n",
        "\n",
        "            # Create a new plot\n",
        "            plt.figure(figsize=(10, 6))\n",
        "            plt.plot(df['Date_Time'], df[selected_y_variable], marker='.')\n",
        "            #xmin, xmax = plt.xlim()\n",
        "            #print(xmin, xmax)\n",
        "            plt.xlim(19584.334567708334, 19590.757434606483)\n",
        "            plt.xlabel('Date Time')\n",
        "            plt.ylabel(selected_y_variable.capitalize())\n",
        "            plt.title(f'{selected_y_variable.capitalize()} vs Date_Time for {selected_id}')\n",
        "            plt.xticks(rotation=45)\n",
        "            plt.tight_layout()\n",
        "            plt.show()\n",
        "\n",
        "# Display widgets and plot output\n",
        "display(id_dropdown)\n",
        "display(y_variable_dropdown)\n",
        "display(plot_output)\n",
        "\n",
        "# Listen for changes in the dropdowns and update the plot accordingly\n",
        "id_dropdown.observe(update_plot, 'value')\n",
        "y_variable_dropdown.observe(update_plot, 'value')"
      ],
      "metadata": {
        "colab": {
          "base_uri": "https://localhost:8080/",
          "height": 669,
          "referenced_widgets": [
            "a12dd08bf6aa45c1840201c53ed28b0b",
            "2633febe95a945f58dda14b45426758d",
            "19167018aa8c4db98ec263b932649fed",
            "6d00e196fc5b4f638a056038e3352960",
            "c494cf7c6d4c4b0bb13ff845daa3ab2a",
            "07e0d552a2b74f36844c45c72a6678ba",
            "836520af47a042b59e982811a8f8d1b3",
            "86f817c874a14c4f852b96f904ab1f8e"
          ]
        },
        "id": "6jQKrz8gq39j",
        "outputId": "e450c46d-0119-4dc4-f5d6-cd2b419d69d4"
      },
      "execution_count": 3,
      "outputs": [
        {
          "output_type": "display_data",
          "data": {
            "text/plain": [
              "Dropdown(description='Select ID:', options=('ID_10.0', 'ID_12.0', 'ID_13.0', 'ID_14.0', 'ID_15.0', 'ID_17.0', …"
            ],
            "application/vnd.jupyter.widget-view+json": {
              "version_major": 2,
              "version_minor": 0,
              "model_id": "a12dd08bf6aa45c1840201c53ed28b0b"
            }
          },
          "metadata": {}
        },
        {
          "output_type": "display_data",
          "data": {
            "text/plain": [
              "Dropdown(description='Select Y-variable:', options=('air_temp', 'pressure', 'lid_status', 'co2_concentration',…"
            ],
            "application/vnd.jupyter.widget-view+json": {
              "version_major": 2,
              "version_minor": 0,
              "model_id": "6d00e196fc5b4f638a056038e3352960"
            }
          },
          "metadata": {}
        },
        {
          "output_type": "display_data",
          "data": {
            "text/plain": [
              "Output()"
            ],
            "application/vnd.jupyter.widget-view+json": {
              "version_major": 2,
              "version_minor": 0,
              "model_id": "836520af47a042b59e982811a8f8d1b3"
            }
          },
          "metadata": {}
        }
      ]
    },
    {
      "cell_type": "code",
      "source": [],
      "metadata": {
        "id": "g1oeSYJgwlaE"
      },
      "execution_count": null,
      "outputs": []
    }
  ]
}